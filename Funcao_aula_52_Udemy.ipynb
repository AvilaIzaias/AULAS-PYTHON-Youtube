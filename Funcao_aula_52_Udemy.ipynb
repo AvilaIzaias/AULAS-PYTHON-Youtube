{
  "nbformat": 4,
  "nbformat_minor": 0,
  "metadata": {
    "colab": {
      "name": "Funcao aula 52 Udemy.ipynb",
      "provenance": [],
      "authorship_tag": "ABX9TyP5Vj1ji6j2AQ/4IXbG6UGH",
      "include_colab_link": true
    },
    "kernelspec": {
      "name": "python3",
      "display_name": "Python 3"
    },
    "language_info": {
      "name": "python"
    }
  },
  "cells": [
    {
      "cell_type": "markdown",
      "metadata": {
        "id": "view-in-github",
        "colab_type": "text"
      },
      "source": [
        "<a href=\"https://colab.research.google.com/github/AvilaIzaias/AULAS-PYTHON-Youtube/blob/main/Funcao_aula_52_Udemy.ipynb\" target=\"_parent\"><img src=\"https://colab.research.google.com/assets/colab-badge.svg\" alt=\"Open In Colab\"/></a>"
      ]
    },
    {
      "cell_type": "code",
      "metadata": {
        "colab": {
          "base_uri": "https://localhost:8080/"
        },
        "id": "EGszU5TNl9qp",
        "outputId": "c9872aa9-f596-447e-cf24-50f971e20a83"
      },
      "source": [
        "def funcao():\n",
        "  print('Hello world!')\n",
        "# chamando a funcao duas vezes e é imprisso mostrando na tela.\n",
        "funcao()\n",
        "funcao()"
      ],
      "execution_count": null,
      "outputs": [
        {
          "output_type": "stream",
          "text": [
            "Hello world!\n",
            "Hello world!\n"
          ],
          "name": "stdout"
        }
      ]
    },
    {
      "cell_type": "code",
      "metadata": {
        "colab": {
          "base_uri": "https://localhost:8080/"
        },
        "id": "rJ0EDxtdnDUX",
        "outputId": "b53d1049-755b-40ab-b5a1-4cfb54b4dcfa"
      },
      "source": [
        "def funcao():  #Vc poderia imprimir varias vezes que daria a mesma coisa(A PRATICA DA FUNCAO É QUE SER VC ALTERAR O PRINT VC MUDA APENAS UMA VEZ)\n",
        "  print('Alô Mundo!')\n",
        "# chamando a funcao duas vezes e é imprisso mostrando na tela.\n",
        "funcao()\n",
        "funcao()"
      ],
      "execution_count": null,
      "outputs": [
        {
          "output_type": "stream",
          "text": [
            "Alô Mundo!\n",
            "Alô Mundo!\n"
          ],
          "name": "stdout"
        }
      ]
    },
    {
      "cell_type": "code",
      "metadata": {
        "id": "bdblg8Ib-2yX"
      },
      "source": [
        "def saudacao(msg = 'Olá', nome = 'usuário'):\n",
        "  nome = nome.replace('e', '3')  #Onde existir e será substituído por 3\n",
        "  msg = msg.replace('e', '3')  #Onde existir e será substituído por 3\n",
        "  return f'{msg} {nome}'\n",
        "\n",
        "  variavel = saudacao()\n",
        "  print(variavel)"
      ],
      "execution_count": null,
      "outputs": []
    },
    {
      "cell_type": "code",
      "metadata": {
        "id": "bcuW5zqa-1rS"
      },
      "source": [
        "d"
      ],
      "execution_count": null,
      "outputs": []
    },
    {
      "cell_type": "code",
      "metadata": {
        "id": "JFE-TRa2AmUh"
      },
      "source": [
        "def funcao(var):\n",
        "    print(var)\n",
        "    funcao('Escrever o que quiser')\n",
        "#nao funcionou"
      ],
      "execution_count": null,
      "outputs": []
    },
    {
      "cell_type": "code",
      "metadata": {
        "colab": {
          "base_uri": "https://localhost:8080/"
        },
        "id": "05gaaQWQDBb2",
        "outputId": "f2dd639e-1842-45a4-907e-64b6f2840cff"
      },
      "source": [
        "def divisao(n1, n2):\n",
        "  return n1 / n2\n",
        "\n",
        "divide = divisao(12, 2) #nao estava funcionando... quando eu prestei atenção a identação funcionou.\n",
        "print(divide)"
      ],
      "execution_count": null,
      "outputs": [
        {
          "output_type": "stream",
          "text": [
            "6.0\n"
          ],
          "name": "stdout"
        }
      ]
    },
    {
      "cell_type": "code",
      "metadata": {
        "colab": {
          "base_uri": "https://localhost:8080/"
        },
        "id": "xCDKwyqAFrnF",
        "outputId": "3472ca0e-9477-4973-89ef-43ecc129775b"
      },
      "source": [
        "def divisao(n1, n2):\n",
        "  if n2 == 0:\n",
        "    return\n",
        "  return n1 / n2\n",
        "xx = divisao(12, 0) #testando com o divisor igual a zero\n",
        "if xx:\n",
        "  print(xx)\n",
        "else:\n",
        "    print('Conta inválida')"
      ],
      "execution_count": null,
      "outputs": [
        {
          "output_type": "stream",
          "text": [
            "Conta inválida\n"
          ],
          "name": "stdout"
        }
      ]
    },
    {
      "cell_type": "markdown",
      "metadata": {
        "id": "p3KuRdQRsP6W"
      },
      "source": [
        "Continuando funções da aula 53 Udemy 18/08/2021."
      ]
    },
    {
      "cell_type": "code",
      "metadata": {
        "colab": {
          "base_uri": "https://localhost:8080/"
        },
        "id": "_AUznrwuIwWB",
        "outputId": "ee215b01-8330-4bc4-aece-07b52fa6f363"
      },
      "source": [
        "def dumb():\n",
        "  return False\n",
        "\n",
        "print(dumb(), type(dumb()))  # prete atenção na identação do código...\n"
      ],
      "execution_count": null,
      "outputs": [
        {
          "output_type": "stream",
          "text": [
            "False <class 'bool'>\n"
          ],
          "name": "stdout"
        }
      ]
    },
    {
      "cell_type": "code",
      "metadata": {
        "colab": {
          "base_uri": "https://localhost:8080/"
        },
        "id": "Pa21VUsnu-PK",
        "outputId": "f6911206-f950-4996-bd4e-a36a87e1b139"
      },
      "source": [
        "def dumb():\n",
        "  return 1.1\n",
        "\n",
        "var = dumb()\n",
        "print(var, type(var))  #atribuindo um valor para dumb... no caso var."
      ],
      "execution_count": null,
      "outputs": [
        {
          "output_type": "stream",
          "text": [
            "1.1 <class 'float'>\n"
          ],
          "name": "stdout"
        }
      ]
    },
    {
      "cell_type": "code",
      "metadata": {
        "colab": {
          "base_uri": "https://localhost:8080/"
        },
        "id": "YF35DS7DveQl",
        "outputId": "8cd15d31-21b3-4cbb-b1b4-7b6fb335616e"
      },
      "source": [
        "#retornando uma lista\n",
        "def dumb():\n",
        "  return [1, 2, 3, 4, 5]\n",
        "\n",
        "var = dumb()\n",
        "print(var, type(var))  \n"
      ],
      "execution_count": null,
      "outputs": [
        {
          "output_type": "stream",
          "text": [
            "[1, 2, 3, 4, 5] <class 'list'>\n"
          ],
          "name": "stdout"
        }
      ]
    },
    {
      "cell_type": "code",
      "metadata": {
        "colab": {
          "base_uri": "https://localhost:8080/"
        },
        "id": "_gyT7_covtuF",
        "outputId": "02b609e4-3cf2-44cf-bb90-4ea67e0d0edf"
      },
      "source": [
        "def dumb():\n",
        "  return\n",
        "\n",
        "var = dumb()\n",
        "print(var, type(var))  #retornou none que não é nada... não tem valor."
      ],
      "execution_count": null,
      "outputs": [
        {
          "output_type": "stream",
          "text": [
            "None <class 'NoneType'>\n"
          ],
          "name": "stdout"
        }
      ]
    },
    {
      "cell_type": "code",
      "metadata": {
        "colab": {
          "base_uri": "https://localhost:8080/"
        },
        "id": "oEuDh8lUwem5",
        "outputId": "4bfe8248-476e-465a-e8bf-abab99011523"
      },
      "source": [
        "def g(var):\n",
        "  print(var)\n",
        "\n",
        "def dumb():  #Quando vc não coloca os parenteses na função () apenas return g o type retorna função...\n",
        "  return g\n",
        "\n",
        "print(type(g))"
      ],
      "execution_count": null,
      "outputs": [
        {
          "output_type": "stream",
          "text": [
            "<class 'function'>\n"
          ],
          "name": "stdout"
        }
      ]
    },
    {
      "cell_type": "code",
      "metadata": {
        "colab": {
          "base_uri": "https://localhost:8080/"
        },
        "id": "YtvFgA360Fn2",
        "outputId": "0a7a7eaa-db0c-4be9-b07d-3f77a966d83f"
      },
      "source": [
        "def f(var):\n",
        "  print(var)\n",
        "\n",
        "def dumb(): \n",
        "  return f  #não está chamando(executando) a função está apenas retornando a função\n",
        "\n",
        "var = dumb()  #var agora é uma função ==>> olha o nó. dumb acima está retornando f que é uma função\n",
        "print(type(var))  #O type de var neste momento é <class 'function'>\n"
      ],
      "execution_count": null,
      "outputs": [
        {
          "output_type": "stream",
          "text": [
            "<class 'function'>\n"
          ],
          "name": "stdout"
        }
      ]
    },
    {
      "cell_type": "code",
      "metadata": {
        "colab": {
          "base_uri": "https://localhost:8080/"
        },
        "id": "7ahKepXg3QZx",
        "outputId": "affe9684-4964-46de-ac69-c9a055ac296f"
      },
      "source": [
        "def f(var):\n",
        "  print(var)\n",
        "\n",
        "def dumb(): \n",
        "  return f  #não está chamando(executando) a função está apenas retornando a função\n",
        "\n",
        "var = dumb()  #var agora é uma função ==>> olha o nó. dumb acima está retornando f que é uma função\n",
        "print(id(var), id(f))  #id é a identificação da função na memória... então perceba que os ids são iguais... 140251758486880 140251758486880"
      ],
      "execution_count": null,
      "outputs": [
        {
          "output_type": "stream",
          "text": [
            "140251758950736 140251758950736\n"
          ],
          "name": "stdout"
        }
      ]
    },
    {
      "cell_type": "code",
      "metadata": {
        "colab": {
          "base_uri": "https://localhost:8080/"
        },
        "id": "Bw_N2mah31Nq",
        "outputId": "a08e9260-975a-4875-8e4c-132a68859a34"
      },
      "source": [
        "#140251758486880 140251758486880\n",
        "def f(var):\n",
        "  print(var)\n",
        "\n",
        "def dumb(): \n",
        "  return f  #não está chamando(executando) a função está apenas retornando a função\n",
        "\n",
        "var = dumb()  #var agora é uma função ==>> olha o nó. dumb acima está retornando f que é uma função e se var = dumb() então var é uma função\n",
        "print(id(var), id(f)) \n",
        "#então vamos fazer uma verificação dessa igualdade...\n",
        "if var == f:\n",
        "  print(\"var é igual a f\")  #retorno140251758679536 14025175867953 - var é igual a f. dentro da memória do computador\n",
        "else:\n",
        "  print(\"kkkkkkkkkkkkkk\")"
      ],
      "execution_count": null,
      "outputs": [
        {
          "output_type": "stream",
          "text": [
            "140251758680112 140251758680112\n",
            "var é igual a f\n"
          ],
          "name": "stdout"
        }
      ]
    },
    {
      "cell_type": "code",
      "metadata": {
        "colab": {
          "base_uri": "https://localhost:8080/"
        },
        "id": "Bk6Cy2BR7aar",
        "outputId": "9b009e90-283a-4b07-e83b-b39e76d2e2ab"
      },
      "source": [
        "#140251758486880 140251758486880\n",
        "def f(var):\n",
        "  print(var)\n",
        "\n",
        "def dumb(): \n",
        "  return f  #não está chamando(executando) a função está apenas retornando a função\n",
        "\n",
        "var = dumb()  #var agora é uma função ==>> olha o nó. dumb acima está retornando f que é uma função e se var = dumb() então var é uma função\n",
        "var('Como var é uma função agora ele pode imprimir algo na tela')"
      ],
      "execution_count": null,
      "outputs": [
        {
          "output_type": "stream",
          "text": [
            "Como var é uma função agora ele pode imprimir algo na tela\n"
          ],
          "name": "stdout"
        }
      ]
    },
    {
      "cell_type": "code",
      "metadata": {
        "colab": {
          "base_uri": "https://localhost:8080/"
        },
        "id": "2uvhkxLfN_JE",
        "outputId": "1e16aba1-2c7c-41a4-d12d-0906e30a2eea"
      },
      "source": [
        "#treinando funções\n",
        "def a():\n",
        "  print('bbbbbbb')\n",
        "\n",
        "a()\n",
        "a()"
      ],
      "execution_count": null,
      "outputs": [
        {
          "output_type": "stream",
          "text": [
            "bbbbbbb\n",
            "bbbbbbb\n"
          ],
          "name": "stdout"
        }
      ]
    },
    {
      "cell_type": "code",
      "metadata": {
        "colab": {
          "base_uri": "https://localhost:8080/"
        },
        "id": "XHko1CjtTB7Y",
        "outputId": "e9f63d38-2db1-4f58-d18b-4118815ec6ae"
      },
      "source": [
        "def divisao(n1, n2):\n",
        "  if n2 == 0:\n",
        "    return\n",
        "\n",
        "    return n1 / n2\n",
        "divide = divisao (8 , 0)\n",
        "if divide:\n",
        "  print(divide)\n",
        "else:\n",
        "  print(\"Conta inválida\")\n"
      ],
      "execution_count": null,
      "outputs": [
        {
          "output_type": "stream",
          "text": [
            "Conta inválida\n"
          ],
          "name": "stdout"
        }
      ]
    },
    {
      "cell_type": "code",
      "metadata": {
        "colab": {
          "base_uri": "https://localhost:8080/"
        },
        "id": "sAYZIqejWEzt",
        "outputId": "44001cea-5461-475a-ae1c-1ca1e5c80bbc"
      },
      "source": [
        "def dumb():\n",
        "  return 1\n",
        "print(dumb(), type(dumb()))"
      ],
      "execution_count": null,
      "outputs": [
        {
          "output_type": "stream",
          "text": [
            "1 <class 'int'>\n"
          ],
          "name": "stdout"
        }
      ]
    },
    {
      "cell_type": "code",
      "metadata": {
        "colab": {
          "base_uri": "https://localhost:8080/"
        },
        "id": "J3JDCktZWy43",
        "outputId": "1212fdc9-170b-4677-92db-e723e6e356cf"
      },
      "source": [
        "def dumb1():\n",
        "  return 1.7\n",
        "print(dumb1(), type(dumb1()))"
      ],
      "execution_count": null,
      "outputs": [
        {
          "output_type": "stream",
          "text": [
            "1.7 <class 'float'>\n"
          ],
          "name": "stdout"
        }
      ]
    },
    {
      "cell_type": "code",
      "metadata": {
        "colab": {
          "base_uri": "https://localhost:8080/"
        },
        "id": "RBvT1hGfXOpr",
        "outputId": "0d0bf426-1593-4b1a-8b81-e54e88dfe722"
      },
      "source": [
        "def dumb2():\n",
        "  return True\n",
        "print(dumb2(), type(dumb2()))"
      ],
      "execution_count": null,
      "outputs": [
        {
          "output_type": "stream",
          "text": [
            "True <class 'bool'>\n"
          ],
          "name": "stdout"
        }
      ]
    },
    {
      "cell_type": "code",
      "metadata": {
        "colab": {
          "base_uri": "https://localhost:8080/"
        },
        "id": "LCjHBSpSXk5j",
        "outputId": "baadd56a-7b20-4d08-d98c-4c21932fe272"
      },
      "source": [
        "def dumb3():\n",
        "  return 'ola mundo!'\n",
        "print(dumb3(), type(dumb3()))"
      ],
      "execution_count": null,
      "outputs": [
        {
          "output_type": "stream",
          "text": [
            "ola mundo! <class 'str'>\n"
          ],
          "name": "stdout"
        }
      ]
    },
    {
      "cell_type": "code",
      "metadata": {
        "colab": {
          "base_uri": "https://localhost:8080/"
        },
        "id": "uXRTV34PYCh5",
        "outputId": "22440a84-8d23-4c2a-ee19-39e418187ac9"
      },
      "source": [
        "def dumb4():\n",
        "  return [1, 2, \"cesar\"]\n",
        "#print(dumb4(), type(dumb4()))  #[1, 2, 'cesar'] <class 'list'> este é o retorno\n",
        "var = dumb4()\n",
        "print(var, type(var))  #retorno"
      ],
      "execution_count": null,
      "outputs": [
        {
          "output_type": "stream",
          "text": [
            "[1, 2, 'cesar'] <class 'list'>\n"
          ],
          "name": "stdout"
        }
      ]
    },
    {
      "cell_type": "code",
      "metadata": {
        "colab": {
          "base_uri": "https://localhost:8080/"
        },
        "id": "MM4RsLgLZmMe",
        "outputId": "e3d54faa-2434-4639-b4b0-be8bcc0d64a4"
      },
      "source": [
        "def dumb5():\n",
        "  return 1\n",
        "var = dumb5()\n",
        "print(var, type(var))  #retorno 1 <class 'int'>"
      ],
      "execution_count": null,
      "outputs": [
        {
          "output_type": "stream",
          "text": [
            "1 <class 'int'>\n"
          ],
          "name": "stdout"
        }
      ]
    },
    {
      "cell_type": "code",
      "metadata": {
        "colab": {
          "base_uri": "https://localhost:8080/"
        },
        "id": "sQ1sCB_vZ2eG",
        "outputId": "4074aca3-a582-45e9-85ad-bde9098ca3b7"
      },
      "source": [
        "def dumb6():\n",
        "  return 1.1\n",
        "x = dumb6()\n",
        "print(x, type(x))  #retorno 1.1 <class 'float'>"
      ],
      "execution_count": null,
      "outputs": [
        {
          "output_type": "stream",
          "text": [
            "1.1 <class 'float'>\n"
          ],
          "name": "stdout"
        }
      ]
    },
    {
      "cell_type": "code",
      "metadata": {
        "colab": {
          "base_uri": "https://localhost:8080/"
        },
        "id": "Z4XclF1eaF3j",
        "outputId": "d404687c-8778-4730-9fd2-c52a5d62c7f3"
      },
      "source": [
        "def dumb7():\n",
        "  return False\n",
        "gg = dumb7()\n",
        "print(gg, type(gg))  #retorno False <class 'bool'>"
      ],
      "execution_count": null,
      "outputs": [
        {
          "output_type": "stream",
          "text": [
            "False <class 'bool'>\n"
          ],
          "name": "stdout"
        }
      ]
    },
    {
      "cell_type": "code",
      "metadata": {
        "colab": {
          "base_uri": "https://localhost:8080/"
        },
        "id": "H-4CiPrMahas",
        "outputId": "989f940a-0564-4115-8d4e-2529b48479ed"
      },
      "source": [
        "def dumb8():\n",
        "  return\n",
        "v = dumb8()\n",
        "print(v, type(v))  #retorno None <class 'NoneType'>"
      ],
      "execution_count": null,
      "outputs": [
        {
          "output_type": "stream",
          "text": [
            "None <class 'NoneType'>\n"
          ],
          "name": "stdout"
        }
      ]
    },
    {
      "cell_type": "code",
      "metadata": {
        "colab": {
          "base_uri": "https://localhost:8080/"
        },
        "id": "SXyrumMekeVX",
        "outputId": "3232f109-4247-45fa-9f60-8bdda887fd96"
      },
      "source": [
        "def dumb():\n",
        "  return('izaias' , 'avila')\n",
        "var = dumb()\n",
        "print(var, type(var))  #retorno  ('izaias', 'avila') <class 'tuple'>"
      ],
      "execution_count": null,
      "outputs": [
        {
          "output_type": "stream",
          "text": [
            "('izaias', 'avila') <class 'tuple'>\n"
          ],
          "name": "stdout"
        }
      ]
    },
    {
      "cell_type": "code",
      "metadata": {
        "colab": {
          "base_uri": "https://localhost:8080/"
        },
        "id": "oKHbGt3nk3fx",
        "outputId": "ed381e51-c6c9-4e6f-9ae5-d2203476b913"
      },
      "source": [
        "def a(b):\n",
        "  print(b)\n",
        "def c():\n",
        "  return a\n",
        "d = c()\n",
        "print(id(d), id(a))  #retorno 140251758032944 140251758032944 (d e a SÃO IGUAIS ==> MESMO OBJETO)"
      ],
      "execution_count": 4,
      "outputs": [
        {
          "output_type": "stream",
          "text": [
            "140204535986224 140204535986224\n"
          ],
          "name": "stdout"
        }
      ]
    },
    {
      "cell_type": "code",
      "metadata": {
        "colab": {
          "base_uri": "https://localhost:8080/"
        },
        "id": "H4Qnf-sUmroo",
        "outputId": "7b6da46c-7012-4c79-ec28-9f661308cd8d"
      },
      "source": [
        "def e(f):\n",
        "  return f\n",
        "def g():\n",
        "  return e\n",
        "h = g()\n",
        "print(id(e), id(h), id(g))  #olha o retorno 140204536003760 140204536003760 140204536003040"
      ],
      "execution_count": 5,
      "outputs": [
        {
          "output_type": "stream",
          "text": [
            "140204535985216 140204535985216 140204535984640\n"
          ],
          "name": "stdout"
        }
      ]
    },
    {
      "cell_type": "markdown",
      "metadata": {
        "id": "YHpVBZkGdald"
      },
      "source": [
        ""
      ]
    },
    {
      "cell_type": "code",
      "metadata": {
        "colab": {
          "base_uri": "https://localhost:8080/"
        },
        "id": "rP38lyWmdZ43",
        "outputId": "fb42ed63-6876-4919-b196-31f6121900fd"
      },
      "source": [
        "# AULA 55 UDEMY = Crie uma função que exibe uma saudação com os parâmetros saudação e nome.\n",
        "def saudacao(saudacao, nome):\n",
        "  print(f'{saudacao} {nome}')\n",
        "saudacao('Olá', 'Joaozinho')\n",
        "saudacao('Oi', 'Joao')\n",
        "saudacao('Hi', 'Jo')"
      ],
      "execution_count": 8,
      "outputs": [
        {
          "output_type": "stream",
          "text": [
            "Olá Joaozinho\n",
            "Oi Joao\n",
            "Hi Jo\n"
          ],
          "name": "stdout"
        }
      ]
    },
    {
      "cell_type": "code",
      "metadata": {
        "colab": {
          "base_uri": "https://localhost:8080/"
        },
        "id": "knI-kiuIfKz4",
        "outputId": "cc0b6037-4c07-4bd0-8182-b8533c5c7e24"
      },
      "source": [
        "def a(b, c):  ###01\n",
        "  print(f'{b} {c}')\n",
        "a('x', 'y')\n",
        "a('x0', 'y0')\n",
        "a('x1', 'y1')\n",
        "a('x2', 'y2')"
      ],
      "execution_count": 11,
      "outputs": [
        {
          "output_type": "stream",
          "text": [
            "x y\n",
            "x0 y0\n",
            "x1 y1\n",
            "x2 y2\n"
          ],
          "name": "stdout"
        }
      ]
    },
    {
      "cell_type": "code",
      "metadata": {
        "colab": {
          "base_uri": "https://localhost:8080/"
        },
        "id": "opAEz9WBgIVi",
        "outputId": "ba5b064c-4703-4967-97b3-77927e072280"
      },
      "source": [
        "def d(e, f): ###01\n",
        "  print(f'{e} {f}')\n",
        "d(\"r\", \"t\")"
      ],
      "execution_count": 13,
      "outputs": [
        {
          "output_type": "stream",
          "text": [
            "r t\n"
          ],
          "name": "stdout"
        }
      ]
    },
    {
      "cell_type": "code",
      "metadata": {
        "id": "tdVnOR0IgjsO"
      },
      "source": [
        "# def saudacao1(saudacao1,nome1): ###01\n",
        "#   print(f'{saudacao1}{nome1}')          (PARA COMENTAR TODO CODIGO APERTAR CTRL + /) ELE COMENTA TODO CODIGO\n",
        "# saudacao1('qualquer', 'coisa')\n",
        "# saudacao1('função', 'facildemais')"
      ],
      "execution_count": 15,
      "outputs": []
    },
    {
      "cell_type": "code",
      "metadata": {
        "colab": {
          "base_uri": "https://localhost:8080/"
        },
        "id": "fuMKhNighckz",
        "outputId": "a0094e6d-aa24-49bc-da65-fa7dad1fea6b"
      },
      "source": [
        "## EXERCÍCIO 2 DO UDEMY 55 DE PYTHON\n",
        "#Crie uma função que recebe 3 números como parâmetros e exiba a soma entre eles.\n",
        "def soma(n1, n2, n3):\n",
        "  print(n1 + n2 + n3)\n",
        "soma(1, 2, 3)\n",
        "soma(1, 1, 1)\n",
        "soma(11, 22, 33)"
      ],
      "execution_count": 17,
      "outputs": [
        {
          "output_type": "stream",
          "text": [
            "6\n",
            "3\n",
            "66\n"
          ],
          "name": "stdout"
        }
      ]
    },
    {
      "cell_type": "code",
      "metadata": {
        "colab": {
          "base_uri": "https://localhost:8080/"
        },
        "id": "QDz_rDKXi1-8",
        "outputId": "05e2712f-6f51-4b65-dfc5-71f3a6ba6a41"
      },
      "source": [
        "#semelhante ao 02\n",
        "def multiplica(a, b, c):\n",
        "  print(a * b * c)\n",
        "multiplica(1, 1, 1)\n",
        "multiplica(2, 2, 2)\n",
        "multiplica(3, 3, 3)"
      ],
      "execution_count": 19,
      "outputs": [
        {
          "output_type": "stream",
          "text": [
            "1\n",
            "8\n",
            "27\n"
          ],
          "name": "stdout"
        }
      ]
    },
    {
      "cell_type": "code",
      "metadata": {
        "colab": {
          "base_uri": "https://localhost:8080/"
        },
        "id": "VGDxocGxjdCU",
        "outputId": "045ac685-9c37-4ecf-c1c0-700068859a72"
      },
      "source": [
        "#semelhante ao 02 (só chamando a função)\n",
        "soma(9, 9, 9)\n",
        "multiplica(2, 3, 1)\n",
        "soma(6, 6, 24)\n",
        "multiplica(2, 1, 2)"
      ],
      "execution_count": 24,
      "outputs": [
        {
          "output_type": "stream",
          "text": [
            "27\n",
            "6\n",
            "36\n",
            "4\n"
          ],
          "name": "stdout"
        }
      ]
    },
    {
      "cell_type": "code",
      "metadata": {
        "colab": {
          "base_uri": "https://localhost:8080/"
        },
        "id": "RJBV-BJ8l0mJ",
        "outputId": "0a538187-409b-4c45-ae5c-966f6056862e"
      },
      "source": [
        "## 3 - Crie uma função que receba 2 números. O primeiro é um valor e o segundo é um percentual(ex.: 10%.)\n",
        "#retorne o valor do primento número somado ao aumento percentual do mesmo.\n",
        "def aumento_percentual(valor, percentual):  #NOTE QUE FOI MUDADO DE PRINT PARA RETURN\n",
        "  return valor + (valor * percentual)/100\n",
        "ap = aumento_percentual(100, 10)\n",
        "print(ap)\n",
        "ap = aumento_percentual(50, 5)\n",
        "print(ap)\n",
        "ap = aumento_percentual(13, 100)\n",
        "print(ap)"
      ],
      "execution_count": 31,
      "outputs": [
        {
          "output_type": "stream",
          "text": [
            "110.0\n",
            "52.5\n",
            "26.0\n"
          ],
          "name": "stdout"
        }
      ]
    },
    {
      "cell_type": "code",
      "metadata": {
        "colab": {
          "base_uri": "https://localhost:8080/"
        },
        "id": "pX2nTnUUn5jc",
        "outputId": "1e318104-e1a0-4cb9-a840-79a31a90f840"
      },
      "source": [
        "aumento_percentual(10, 100)  ##chamando a função acima para testar."
      ],
      "execution_count": 33,
      "outputs": [
        {
          "output_type": "execute_result",
          "data": {
            "text/plain": [
              "20.0"
            ]
          },
          "metadata": {},
          "execution_count": 33
        }
      ]
    },
    {
      "cell_type": "code",
      "metadata": {
        "colab": {
          "base_uri": "https://localhost:8080/"
        },
        "id": "Jb02_WTXoDtE",
        "outputId": "ab2308bb-2062-484c-b145-335dbc93307d"
      },
      "source": [
        "#### 4 - Fizz Buzz - Se o parâmetro da função for divisível por 3 retorne Fizz. Se for divisível por 5 retorne Buzz\n",
        "#### Se for divisível por 3 e por 5 retorne FizzBuzz, Caso contrário retorne o número informado.\n",
        "def fb(n):\n",
        "  if n % 3 == 0 and n % 5 == 0:\n",
        "    return f'fizzbuzz, {n} é divisível por 3 e por 5'\n",
        "  if n % 5 == 0:\n",
        "    return f'buzz, {n} é divisível por 5'\n",
        "  if n % 3 == 0:\n",
        "    return f'fizz, {n} é divisível por 3'\n",
        "  return n\n",
        "print(fb(22))\n",
        "print(fb(15))\n",
        "print(fb(25))\n",
        "print(fb(45))\n",
        "print(fb(3))\n",
        "print(fb(72))\n"
      ],
      "execution_count": 35,
      "outputs": [
        {
          "output_type": "stream",
          "text": [
            "22\n",
            "fizzbuzz, 15 é divisível por 3 e por 5\n",
            "buzz, 25 é divisível por 5\n",
            "fizzbuzz, 45 é divisível por 3 e por 5\n",
            "fizz, 3 é divisível por 3\n",
            "fizz, 72 é divisível por 3\n"
          ],
          "name": "stdout"
        }
      ]
    },
    {
      "cell_type": "code",
      "metadata": {
        "id": "2nsZewdzv-83"
      },
      "source": [
        "  def fb(n): ### fazendo de maneira diferente com o random\n",
        "    if n % 3 == 0 and n % 5 == 0:\n",
        "      return f'fizzbuzz, {n} é divisível por 3 e por 5'\n",
        "    if n % 5 == 0:\n",
        "      return f'buzz, {n} é divisível por 5'\n",
        "    if n % 3 == 0:\n",
        "      return f'fizz, {n} é divisível por 3'\n",
        "    return n\n",
        "## uma maneira diferente de fazer com o random... (CREDITO DE 0 A 100)\n",
        "  from random import randint\n",
        "  for i in range(100):\n",
        "      aleatorio = randint(0, 100)\n",
        "      print(fb(aleatorio))\n",
        "  "
      ],
      "execution_count": null,
      "outputs": []
    },
    {
      "cell_type": "code",
      "metadata": {
        "colab": {
          "base_uri": "https://localhost:8080/"
        },
        "id": "T2UdGLdVcyDP",
        "outputId": "1a107594-1ab6-47f1-e87a-00e5c4faa759"
      },
      "source": [
        "## EXERCÍCIOS DA AULA 58 FUNCOES\n",
        "def ola_mundo():\n",
        "  return 'Olá mundo!'\n",
        "\n",
        "def mestre(funcao):\n",
        "  return funcao()\n",
        "\n",
        "executando = mestre(ola_mundo)  #teria o mesmo resultao se eu utilizasse... (print(ola_mundo())) ENTENDEU?\n",
        "print(executando)\n",
        "\n",
        "#print(ola_mundo())"
      ],
      "execution_count": 46,
      "outputs": [
        {
          "output_type": "stream",
          "text": [
            "Olá mundo!\n"
          ],
          "name": "stdout"
        }
      ]
    },
    {
      "cell_type": "code",
      "metadata": {
        "colab": {
          "base_uri": "https://localhost:8080/"
        },
        "id": "5Tsdwg5qfeZK",
        "outputId": "172cfb5f-a26c-4d88-914e-4b2ce2281a7b"
      },
      "source": [
        "def a1():\n",
        "  return 'testando'\n",
        "def a2(f):\n",
        "  return f() \n",
        "a3 = a2(a1)\n",
        "print(a3)"
      ],
      "execution_count": 50,
      "outputs": [
        {
          "output_type": "stream",
          "text": [
            "testando\n"
          ],
          "name": "stdout"
        }
      ]
    },
    {
      "cell_type": "code",
      "metadata": {
        "colab": {
          "base_uri": "https://localhost:8080/"
        },
        "id": "DMAdo6JhgbpG",
        "outputId": "514c2d95-93ae-4253-af5a-1ae651a955e2"
      },
      "source": [
        "def aa():\n",
        "  return ('Essa função é a função aa')\n",
        "def bb(cc):\n",
        "  return cc()\n",
        "dd = bb(aa)\n",
        "print(dd)"
      ],
      "execution_count": 55,
      "outputs": [
        {
          "output_type": "stream",
          "text": [
            "Essa função é a função aa\n"
          ],
          "name": "stdout"
        }
      ]
    },
    {
      "cell_type": "code",
      "metadata": {
        "colab": {
          "base_uri": "https://localhost:8080/"
        },
        "id": "ZKslbY72hRdq",
        "outputId": "83f08937-564f-40fd-8d0a-4898da2d2e44"
      },
      "source": [
        "def x():  #funcao 2\n",
        "  return 'Essa função vai retornar no print do z lá embaixo'\n",
        "def y(a):  #funcao 1 que recebe a funcao 2\n",
        "  return a()\n",
        "z = y(x)  #z retorna a funcao 2\n",
        "print(z)"
      ],
      "execution_count": 56,
      "outputs": [
        {
          "output_type": "stream",
          "text": [
            "Essa função vai retornar no print do z lá embaixo\n"
          ],
          "name": "stdout"
        }
      ]
    }
  ]
}