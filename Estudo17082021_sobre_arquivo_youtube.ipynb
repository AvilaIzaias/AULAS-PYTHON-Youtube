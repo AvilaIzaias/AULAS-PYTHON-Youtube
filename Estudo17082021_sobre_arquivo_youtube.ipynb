{
  "nbformat": 4,
  "nbformat_minor": 0,
  "metadata": {
    "colab": {
      "name": "Estudo17082021 sobre arquivo youtube.ipynb",
      "provenance": [],
      "authorship_tag": "ABX9TyMG7sGFwztTFjSpic10LZ7g",
      "include_colab_link": true
    },
    "kernelspec": {
      "name": "python3",
      "display_name": "Python 3"
    },
    "language_info": {
      "name": "python"
    }
  },
  "cells": [
    {
      "cell_type": "markdown",
      "metadata": {
        "id": "view-in-github",
        "colab_type": "text"
      },
      "source": [
        "<a href=\"https://colab.research.google.com/github/AvilaIzaias/AULAS-PYTHON-Youtube/blob/main/Estudo17082021_sobre_arquivo_youtube.ipynb\" target=\"_parent\"><img src=\"https://colab.research.google.com/assets/colab-badge.svg\" alt=\"Open In Colab\"/></a>"
      ]
    },
    {
      "cell_type": "code",
      "metadata": {
        "id": "h8ZcSFLbY47Z"
      },
      "source": [
        "file = open('abc.txt', 'w+')  # abrindo um arquivo novo e w+ significa ler e escrever\n",
        "file.write('Linha 1\\n') # escrevendo no arquivo abc e \\n é uma quebra de linha\n",
        "file.write('Linha 2\\n')\n",
        "file.write('Linha 3\\n')\n",
        "\n",
        "file.seek(0, 0)  # posiçãp inicial do arquivo\n",
        "print('Lendo linhas: ')\n",
        "print(file.read())  #essa função vai ler dada lindo do arquivo conforme parametro seek.\n",
        "print('###############')\n",
        "\n",
        "file.seek(0, 0) # posiçãp inicial do arquivo\n",
        "print(file.readline(), end='')  #vai ler linha por lina e deu o comando end='' para não ter queb linha.\n",
        "print(file.readline(), end='')\n",
        "print(file.readline(), end='')\n",
        "print('###############')\n",
        "\n",
        "file.seek(0, 0)  # posiçãp inicial do arquivo\n",
        "#print(file.readlines()) #Aqui vai ser criado uma lista\n",
        "#Pode ser feito também através de um for.\n",
        "for linha in file.readlines():\n",
        "  print(linha, end='')  #O end tira a quebra de linha\n",
        "\n",
        "file.close()  # terminou o arquivo e agora vai fechá-lo."
      ],
      "execution_count": null,
      "outputs": []
    },
    {
      "cell_type": "code",
      "metadata": {
        "id": "E3qHVFHvakU-"
      },
      "source": [
        "x = open('ar.txt' , 'w+')\n",
        "x.write('11111')\n",
        "x.write('22222')\n",
        "x.write('33333')\n",
        "\n",
        "x.seek(0)  #Posição inicial do arquivo"
      ],
      "execution_count": null,
      "outputs": []
    },
    {
      "cell_type": "code",
      "metadata": {
        "id": "upoQUlYmfjSV"
      },
      "source": [
        "# Uma maneira inteligente é abrir com o with não vai precisar fechar o arquivo.\n",
        "with open('abc.txt', 'w+') as file:  # seria a mesma coisa file = open()\n",
        "  file.write('Linha 1\\n')\n",
        "  file.write('Linha 2\\n')\n",
        "  file.write('Linha 3\\n')\n",
        "\n",
        "  file.seek(0)\n",
        "  print(file.read())"
      ],
      "execution_count": null,
      "outputs": []
    },
    {
      "cell_type": "code",
      "metadata": {
        "id": "nJCrXHehhdyA"
      },
      "source": [
        "with open('abc.txt', 'r') as file:  # com o r vai simplismente ler o arquivo\n",
        "  print(file.read())  #somente vai lei o arquivo abc.txt"
      ],
      "execution_count": null,
      "outputs": []
    },
    {
      "cell_type": "code",
      "metadata": {
        "id": "Lug5pz4ziKBC"
      },
      "source": [
        "with open('abc.txt', 'a+') as file:  # com o a vai ativar o append... acrescentar coisas ao arquivo\n",
        "  file.write('Outra linha \\n')  #O comando a+ vai add linhas cada execução.\n",
        "  file.seek(0)\n",
        "  print(file.read())"
      ],
      "execution_count": null,
      "outputs": []
    },
    {
      "cell_type": "code",
      "metadata": {
        "colab": {
          "base_uri": "https://localhost:8080/"
        },
        "id": "jPWCJhPAjtCB",
        "outputId": "c37fec4d-c8d7-469f-c010-fb57397ec5ad"
      },
      "source": [
        "with open('abc.txt', 'w+') as file:  # subst o a+ pelo w+ ele apaga todas as linhas e escreve nova.\n",
        "  file.write('Outra linha \\n')  \n",
        "  print(file.read())"
      ],
      "execution_count": 17,
      "outputs": [
        {
          "output_type": "stream",
          "text": [
            "\n"
          ],
          "name": "stdout"
        }
      ]
    },
    {
      "cell_type": "code",
      "metadata": {
        "id": "aFU5-y2Fjs8V"
      },
      "source": [
        "# excluir o arquivo ==>> removendo ele de vez\n",
        "import os\n",
        "os.remove('abc.txt') # o arquivo foi removido"
      ],
      "execution_count": null,
      "outputs": []
    },
    {
      "cell_type": "code",
      "metadata": {
        "id": "wjuMrWp7lsU6"
      },
      "source": [
        "import json\n",
        "d1 = {\n",
        "    'pessoa1': {\n",
        "        'nome': 'Luiz',\n",
        "        'idade': '25',\n",
        "    },\n",
        "     'pessoa2':{\n",
        "        'nome': 'Rose',\n",
        "        'idade': '30',\n",
        "    }\n",
        "} \n",
        "d1_json = json.dumps(d1, indent=True)\n",
        "with open('abc.json', 'w+') as file:\n",
        "  file.write(d1_json)\n",
        "\n",
        "print(d1_json)"
      ],
      "execution_count": null,
      "outputs": []
    },
    {
      "cell_type": "code",
      "metadata": {
        "colab": {
          "base_uri": "https://localhost:8080/"
        },
        "id": "FLSAGHihrtzJ",
        "outputId": "5781cd4a-527b-4223-8187-dc1047d5fb71"
      },
      "source": [
        "import json\n",
        "\n",
        "with open('abc.json', 'r') as file:\n",
        "  d1_json = file.read()\n",
        "  d1_json = json.loads(d1_json)  # volta a ser o dicionário novamente\n",
        "\n",
        "for k, v in d1_json.items():\n",
        "  print(k, v)"
      ],
      "execution_count": 35,
      "outputs": [
        {
          "output_type": "stream",
          "text": [
            "pessoa1 {'nome': 'Luiz', 'idade': '25'}\n",
            "pessoa2 {'nome': 'Rose', 'idade': '30'}\n"
          ],
          "name": "stdout"
        }
      ]
    },
    {
      "cell_type": "code",
      "metadata": {
        "colab": {
          "base_uri": "https://localhost:8080/"
        },
        "id": "yfCtWnZXYxGK",
        "outputId": "92456c17-7cc5-450f-d6d2-0cf827323a54"
      },
      "source": [
        "arq = open('tititi.txt' , 'w+')  #arquivo criado\n",
        "\n",
        "arq.write('Alguma bobagem 1\\n')\n",
        "arq.write('Alguma bobagem 2\\n')\n",
        "arq.write('Alguma bobagem 3\\n')\n",
        "\n",
        "arq.seek(0)\n",
        "print('Lendo linhas')\n",
        "print(arq.readlines)\n",
        "arq.close()"
      ],
      "execution_count": 5,
      "outputs": [
        {
          "output_type": "stream",
          "text": [
            "Lendo linhas\n",
            "<built-in method readlines of _io.TextIOWrapper object at 0x7f28aaaa9670>\n"
          ],
          "name": "stdout"
        }
      ]
    }
  ]
}