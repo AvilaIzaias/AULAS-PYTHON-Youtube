{
  "nbformat": 4,
  "nbformat_minor": 0,
  "metadata": {
    "colab": {
      "name": "CPIn 02",
      "provenance": [],
      "authorship_tag": "ABX9TyPR0DQutKPELqzoqBQ969N+",
      "include_colab_link": true
    },
    "kernelspec": {
      "name": "python3",
      "display_name": "Python 3"
    },
    "language_info": {
      "name": "python"
    }
  },
  "cells": [
    {
      "cell_type": "markdown",
      "metadata": {
        "id": "view-in-github",
        "colab_type": "text"
      },
      "source": [
        "<a href=\"https://colab.research.google.com/github/AvilaIzaias/AULAS-PYTHON-Youtube/blob/main/CPIn_02.ipynb\" target=\"_parent\"><img src=\"https://colab.research.google.com/assets/colab-badge.svg\" alt=\"Open In Colab\"/></a>"
      ]
    },
    {
      "cell_type": "markdown",
      "metadata": {
        "id": "KhJWmnllhcO0"
      },
      "source": [
        "Variáveis de texto"
      ]
    },
    {
      "cell_type": "code",
      "metadata": {
        "colab": {
          "base_uri": "https://localhost:8080/",
          "height": 35
        },
        "id": "QpaQ0KM0hL7-",
        "outputId": "ec0f1002-5ca2-4823-dea4-eb760bc82ea3"
      },
      "source": [
        "texto = \"Curso de Python para Iniciantes\"\n",
        "texto"
      ],
      "execution_count": 12,
      "outputs": [
        {
          "output_type": "execute_result",
          "data": {
            "application/vnd.google.colaboratory.intrinsic+json": {
              "type": "string"
            },
            "text/plain": [
              "'Curso de Python para Iniciantes'"
            ]
          },
          "metadata": {
            "tags": []
          },
          "execution_count": 12
        }
      ]
    },
    {
      "cell_type": "code",
      "metadata": {
        "id": "7NC4nHAMjkyo"
      },
      "source": [
        ""
      ],
      "execution_count": null,
      "outputs": []
    },
    {
      "cell_type": "code",
      "metadata": {
        "colab": {
          "base_uri": "https://localhost:8080/",
          "height": 35
        },
        "id": "mEqZRAdLjNyT",
        "outputId": "1ea0aa18-46b1-4d84-b9b9-c6496e08e542"
      },
      "source": [
        "texto = texto + \" - Aula 02\"\n",
        "texto"
      ],
      "execution_count": 13,
      "outputs": [
        {
          "output_type": "execute_result",
          "data": {
            "application/vnd.google.colaboratory.intrinsic+json": {
              "type": "string"
            },
            "text/plain": [
              "'Curso de Python para Iniciantes - Aula 02'"
            ]
          },
          "metadata": {
            "tags": []
          },
          "execution_count": 13
        }
      ]
    },
    {
      "cell_type": "markdown",
      "metadata": {
        "id": "o5e9tpOWj4Oq"
      },
      "source": [
        ""
      ]
    },
    {
      "cell_type": "markdown",
      "metadata": {
        "id": "UxOwWT3kjgcz"
      },
      "source": [
        "Variáveis numéricas"
      ]
    },
    {
      "cell_type": "code",
      "metadata": {
        "colab": {
          "base_uri": "https://localhost:8080/"
        },
        "id": "umhXIlXZjn53",
        "outputId": "0a8a600c-b1fa-430b-a7f4-43b4fa8183bb"
      },
      "source": [
        "soma = 0\n",
        "soma"
      ],
      "execution_count": 14,
      "outputs": [
        {
          "output_type": "execute_result",
          "data": {
            "text/plain": [
              "0"
            ]
          },
          "metadata": {
            "tags": []
          },
          "execution_count": 14
        }
      ]
    },
    {
      "cell_type": "markdown",
      "metadata": {
        "id": "6AHKeJR7j8MB"
      },
      "source": [
        "Incrementando /Decrementando"
      ]
    },
    {
      "cell_type": "code",
      "metadata": {
        "colab": {
          "base_uri": "https://localhost:8080/"
        },
        "id": "uRN_SNULkBpt",
        "outputId": "e9c765c6-6d86-489c-f123-d93833b25e25"
      },
      "source": [
        "soma = soma + 1\n",
        "soma"
      ],
      "execution_count": 15,
      "outputs": [
        {
          "output_type": "execute_result",
          "data": {
            "text/plain": [
              "1"
            ]
          },
          "metadata": {
            "tags": []
          },
          "execution_count": 15
        }
      ]
    },
    {
      "cell_type": "code",
      "metadata": {
        "colab": {
          "base_uri": "https://localhost:8080/"
        },
        "id": "EGNFEC75kMlb",
        "outputId": "435eab47-c0e4-46cb-de9f-cb276371b930"
      },
      "source": [
        "soma +=1\n",
        "soma"
      ],
      "execution_count": 16,
      "outputs": [
        {
          "output_type": "execute_result",
          "data": {
            "text/plain": [
              "2"
            ]
          },
          "metadata": {
            "tags": []
          },
          "execution_count": 16
        }
      ]
    },
    {
      "cell_type": "code",
      "metadata": {
        "colab": {
          "base_uri": "https://localhost:8080/"
        },
        "id": "N37o4VjtkXAt",
        "outputId": "d2568ef4-f1f9-43a8-cc18-db0d63493081"
      },
      "source": [
        "soma -=1\n",
        "soma"
      ],
      "execution_count": 17,
      "outputs": [
        {
          "output_type": "execute_result",
          "data": {
            "text/plain": [
              "1"
            ]
          },
          "metadata": {
            "tags": []
          },
          "execution_count": 17
        }
      ]
    },
    {
      "cell_type": "code",
      "metadata": {
        "colab": {
          "base_uri": "https://localhost:8080/"
        },
        "id": "WjdbcW1zkaYC",
        "outputId": "c0c0e71b-cdd9-4291-ded0-9097f1a277e2"
      },
      "source": [
        "soma = soma - 1\n",
        "soma"
      ],
      "execution_count": 18,
      "outputs": [
        {
          "output_type": "execute_result",
          "data": {
            "text/plain": [
              "0"
            ]
          },
          "metadata": {
            "tags": []
          },
          "execution_count": 18
        }
      ]
    },
    {
      "cell_type": "markdown",
      "metadata": {
        "id": "M7GfllEjk2FM"
      },
      "source": [
        "Listas\n",
        "\n",
        "Criando e selecionando Elementos\n"
      ]
    },
    {
      "cell_type": "code",
      "metadata": {
        "colab": {
          "base_uri": "https://localhost:8080/"
        },
        "id": "n7T1NpyJlJ5w",
        "outputId": "36a2a11e-ad2e-4629-e530-6abae06e31e7"
      },
      "source": [
        "frutas = ['maca', 'banana', 'laranja']\n",
        "frutas"
      ],
      "execution_count": 39,
      "outputs": [
        {
          "output_type": "execute_result",
          "data": {
            "text/plain": [
              "['maca', 'banana', 'laranja']"
            ]
          },
          "metadata": {
            "tags": []
          },
          "execution_count": 39
        }
      ]
    },
    {
      "cell_type": "code",
      "metadata": {
        "colab": {
          "base_uri": "https://localhost:8080/",
          "height": 35
        },
        "id": "qavYL0t1lOkX",
        "outputId": "1c4d98fd-febc-4d88-a934-1c1054f5a2e1"
      },
      "source": [
        "frutas[2]\n",
        "frutas[0]"
      ],
      "execution_count": 21,
      "outputs": [
        {
          "output_type": "execute_result",
          "data": {
            "application/vnd.google.colaboratory.intrinsic+json": {
              "type": "string"
            },
            "text/plain": [
              "'maca'"
            ]
          },
          "metadata": {
            "tags": []
          },
          "execution_count": 21
        }
      ]
    },
    {
      "cell_type": "code",
      "metadata": {
        "colab": {
          "base_uri": "https://localhost:8080/"
        },
        "id": "aUIx3-ApmLF6",
        "outputId": "10caa31a-83ef-45ca-c501-8e7f3a03d228"
      },
      "source": [
        "numeros = [1, 2, 3,4,5]\n",
        "numeros"
      ],
      "execution_count": 22,
      "outputs": [
        {
          "output_type": "execute_result",
          "data": {
            "text/plain": [
              "[1, 2, 3, 4, 5]"
            ]
          },
          "metadata": {
            "tags": []
          },
          "execution_count": 22
        }
      ]
    },
    {
      "cell_type": "code",
      "metadata": {
        "colab": {
          "base_uri": "https://localhost:8080/"
        },
        "id": "kONWinfGmb9M",
        "outputId": "6d73a37a-62a6-4b91-9bf5-bd790f04c840"
      },
      "source": [
        "lista = ['a', 'b', 'c', frutas, numeros]\n",
        "lista"
      ],
      "execution_count": 28,
      "outputs": [
        {
          "output_type": "execute_result",
          "data": {
            "text/plain": [
              "['a', 'b', 'c', ['maca', 'banana', 'laranja'], [1, 2, 3, 4, 5]]"
            ]
          },
          "metadata": {
            "tags": []
          },
          "execution_count": 28
        }
      ]
    },
    {
      "cell_type": "code",
      "metadata": {
        "colab": {
          "base_uri": "https://localhost:8080/"
        },
        "id": "f5ToYvW-m1N6",
        "outputId": "c440af47-0b7f-4a45-f8b3-d95f4262a77c"
      },
      "source": [
        "lista[3]"
      ],
      "execution_count": 27,
      "outputs": [
        {
          "output_type": "execute_result",
          "data": {
            "text/plain": [
              "['maca', 'banana', 'laranja']"
            ]
          },
          "metadata": {
            "tags": []
          },
          "execution_count": 27
        }
      ]
    },
    {
      "cell_type": "code",
      "metadata": {
        "colab": {
          "base_uri": "https://localhost:8080/"
        },
        "id": "JMc4m7oWnOP6",
        "outputId": "b7df7619-fe51-4d91-822f-c606d496dc71"
      },
      "source": [
        "lista[4][0]"
      ],
      "execution_count": 30,
      "outputs": [
        {
          "output_type": "execute_result",
          "data": {
            "text/plain": [
              "1"
            ]
          },
          "metadata": {
            "tags": []
          },
          "execution_count": 30
        }
      ]
    },
    {
      "cell_type": "code",
      "metadata": {
        "colab": {
          "base_uri": "https://localhost:8080/"
        },
        "id": "InUpk4wencOT",
        "outputId": "6a76ad1f-66d0-452a-9722-454fa3ef724a"
      },
      "source": [
        "lista[:4]"
      ],
      "execution_count": 32,
      "outputs": [
        {
          "output_type": "execute_result",
          "data": {
            "text/plain": [
              "['a', 'b', 'c', ['maca', 'banana', 'laranja']]"
            ]
          },
          "metadata": {
            "tags": []
          },
          "execution_count": 32
        }
      ]
    },
    {
      "cell_type": "code",
      "metadata": {
        "colab": {
          "base_uri": "https://localhost:8080/"
        },
        "id": "_TFroNFun79e",
        "outputId": "3f000eb0-03f2-4cc4-dd28-8769bc1474d7"
      },
      "source": [
        "lista[2:]"
      ],
      "execution_count": 33,
      "outputs": [
        {
          "output_type": "execute_result",
          "data": {
            "text/plain": [
              "['c', ['maca', 'banana', 'laranja'], [1, 2, 3, 4, 5]]"
            ]
          },
          "metadata": {
            "tags": []
          },
          "execution_count": 33
        }
      ]
    },
    {
      "cell_type": "code",
      "metadata": {
        "colab": {
          "base_uri": "https://localhost:8080/"
        },
        "id": "cOUji2qwoKmz",
        "outputId": "7dcf8c89-fd89-4749-ae6b-6af130bedf3c"
      },
      "source": [
        "lista[2:4]"
      ],
      "execution_count": 34,
      "outputs": [
        {
          "output_type": "execute_result",
          "data": {
            "text/plain": [
              "['c', ['maca', 'banana', 'laranja']]"
            ]
          },
          "metadata": {
            "tags": []
          },
          "execution_count": 34
        }
      ]
    },
    {
      "cell_type": "markdown",
      "metadata": {
        "id": "JNVD6s1IoeeJ"
      },
      "source": [
        "Adicionando e Removendo elementos"
      ]
    },
    {
      "cell_type": "code",
      "metadata": {
        "colab": {
          "base_uri": "https://localhost:8080/"
        },
        "id": "ybcbvGlLojQK",
        "outputId": "a2221823-0bfe-45f8-dc8d-e58078656317"
      },
      "source": [
        "frutas.append('goiaba') #adicionando um elemento na lista\n",
        "frutas"
      ],
      "execution_count": 37,
      "outputs": [
        {
          "output_type": "execute_result",
          "data": {
            "text/plain": [
              "['maca', 'banana', 'laranja', 'goiaba', 'goiaba']"
            ]
          },
          "metadata": {
            "tags": []
          },
          "execution_count": 37
        }
      ]
    },
    {
      "cell_type": "code",
      "metadata": {
        "colab": {
          "base_uri": "https://localhost:8080/"
        },
        "id": "az3KMyJlouJz",
        "outputId": "3ccf9cf9-d07d-4c3d-f971-86582dfb3df8"
      },
      "source": [
        "frutas.pop(0) #removendo um elemento da lista\n",
        "frutas"
      ],
      "execution_count": 38,
      "outputs": [
        {
          "output_type": "execute_result",
          "data": {
            "text/plain": [
              "['banana', 'laranja', 'goiaba', 'goiaba']"
            ]
          },
          "metadata": {
            "tags": []
          },
          "execution_count": 38
        }
      ]
    },
    {
      "cell_type": "markdown",
      "metadata": {
        "id": "s5b3v7JYpgod"
      },
      "source": [
        "Alterando elementos"
      ]
    },
    {
      "cell_type": "code",
      "metadata": {
        "colab": {
          "base_uri": "https://localhost:8080/"
        },
        "id": "xiVJ_mz3pl0a",
        "outputId": "040190b0-3a49-4bfb-df68-288f51e01ea4"
      },
      "source": [
        "frutas[0] = 'pera' #PRIMEIRO RODOU O CODIGO ORIGINAL DE FRUTAS\n",
        "frutas"
      ],
      "execution_count": 40,
      "outputs": [
        {
          "output_type": "execute_result",
          "data": {
            "text/plain": [
              "['pera', 'banana', 'laranja']"
            ]
          },
          "metadata": {
            "tags": []
          },
          "execution_count": 40
        }
      ]
    },
    {
      "cell_type": "markdown",
      "metadata": {
        "id": "QrXpfMpQqIow"
      },
      "source": [
        "TUPLAS"
      ]
    },
    {
      "cell_type": "code",
      "metadata": {
        "colab": {
          "base_uri": "https://localhost:8080/"
        },
        "id": "1I9IkG_0qMHG",
        "outputId": "f13c7f9e-847c-4bcf-9706-32713513973e"
      },
      "source": [
        "marcas = 'gm', 'ford', 'fiat', 'vw'\n",
        "marcas"
      ],
      "execution_count": 41,
      "outputs": [
        {
          "output_type": "execute_result",
          "data": {
            "text/plain": [
              "('gm', 'ford', 'fiat', 'vw')"
            ]
          },
          "metadata": {
            "tags": []
          },
          "execution_count": 41
        }
      ]
    },
    {
      "cell_type": "code",
      "metadata": {
        "colab": {
          "base_uri": "https://localhost:8080/",
          "height": 35
        },
        "id": "4Rqh1RuXqdjY",
        "outputId": "6df5a3c6-5371-4618-c99f-5d7780157913"
      },
      "source": [
        "marcas[1]"
      ],
      "execution_count": 43,
      "outputs": [
        {
          "output_type": "execute_result",
          "data": {
            "application/vnd.google.colaboratory.intrinsic+json": {
              "type": "string"
            },
            "text/plain": [
              "'ford'"
            ]
          },
          "metadata": {
            "tags": []
          },
          "execution_count": 43
        }
      ]
    },
    {
      "cell_type": "markdown",
      "metadata": {
        "id": "Yeq52Pbjq4KK"
      },
      "source": [
        "A diferença principal entre Listas e Tuplas é que os elementos de tuplas não podem ser alterados"
      ]
    },
    {
      "cell_type": "code",
      "metadata": {
        "colab": {
          "base_uri": "https://localhost:8080/",
          "height": 164
        },
        "id": "YvE8-A8srDKm",
        "outputId": "8e33ea02-cc6a-4e77-a365-c9af5046eb1a"
      },
      "source": [
        "marcas[0] = 'ferrari'"
      ],
      "execution_count": 44,
      "outputs": [
        {
          "output_type": "error",
          "ename": "TypeError",
          "evalue": "ignored",
          "traceback": [
            "\u001b[0;31m---------------------------------------------------------------------------\u001b[0m",
            "\u001b[0;31mTypeError\u001b[0m                                 Traceback (most recent call last)",
            "\u001b[0;32m<ipython-input-44-6e451b28c77b>\u001b[0m in \u001b[0;36m<module>\u001b[0;34m()\u001b[0m\n\u001b[0;32m----> 1\u001b[0;31m \u001b[0mmarcas\u001b[0m\u001b[0;34m[\u001b[0m\u001b[0;36m0\u001b[0m\u001b[0;34m]\u001b[0m \u001b[0;34m=\u001b[0m \u001b[0;34m'ferrari'\u001b[0m\u001b[0;34m\u001b[0m\u001b[0;34m\u001b[0m\u001b[0m\n\u001b[0m",
            "\u001b[0;31mTypeError\u001b[0m: 'tuple' object does not support item assignment"
          ]
        }
      ]
    }
  ]
}